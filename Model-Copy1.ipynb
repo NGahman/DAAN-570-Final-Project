{
 "cells": [
  {
   "cell_type": "code",
   "execution_count": null,
   "id": "945bf1e8",
   "metadata": {},
   "outputs": [],
   "source": [
    "#Installing necessary dependences:\n",
    "#!pip install -q keras-nlp\n"
   ]
  },
  {
   "cell_type": "code",
   "execution_count": null,
   "id": "d6c16806",
   "metadata": {},
   "outputs": [],
   "source": [
    "#!pip list"
   ]
  },
  {
   "cell_type": "code",
   "execution_count": null,
   "id": "deb975f6",
   "metadata": {},
   "outputs": [],
   "source": []
  },
  {
   "cell_type": "code",
   "execution_count": null,
   "id": "ae495f48",
   "metadata": {},
   "outputs": [],
   "source": []
  },
  {
   "cell_type": "code",
   "execution_count": null,
   "id": "e3cb425f",
   "metadata": {},
   "outputs": [],
   "source": [
    "#imports:\n",
    "import tensorflow as tf\n",
    "import tensorflow_text as tf_text\n",
    "import keras\n",
    "import pandas as pd\n",
    "import numpy as np\n",
    "import os\n",
    "import re\n",
    "import string\n",
    "from sklearn.model_selection import train_test_split\n",
    "from keras.layers import Embedding, Dense, MultiHeadAttention, Softmax, TextVectorization, LayerNormalization\n",
    "from keras import Model, Input\n",
    "from keras.models import Sequential\n",
    "from sklearn.feature_extraction.text import CountVectorizer\n",
    "\n",
    "from tensorflow_text.tools.wordpiece_vocab import bert_vocab_from_dataset as bert_vocab"
   ]
  },
  {
   "cell_type": "code",
   "execution_count": null,
   "id": "11a84da1",
   "metadata": {},
   "outputs": [],
   "source": [
    "print(tf.__version__)"
   ]
  },
  {
   "cell_type": "code",
   "execution_count": null,
   "id": "1df3a58a",
   "metadata": {},
   "outputs": [],
   "source": [
    "print(tf.test.is_gpu_available()) \n",
    "print(tf.test.is_built_with_cuda())\n",
    "print(\"Num GPUs Available: \", len(tf.config.list_physical_devices('GPU')))\n",
    "print(tf.config.list_physical_devices('GPU'))"
   ]
  },
  {
   "cell_type": "code",
   "execution_count": null,
   "id": "14473d53",
   "metadata": {},
   "outputs": [],
   "source": [
    "import keras_nlp"
   ]
  },
  {
   "cell_type": "code",
   "execution_count": null,
   "id": "bff6f9f5",
   "metadata": {},
   "outputs": [],
   "source": [
    "#tf.compat.v1.disable_eager_execution()"
   ]
  },
  {
   "cell_type": "code",
   "execution_count": null,
   "id": "e54d52dd",
   "metadata": {},
   "outputs": [],
   "source": [
    "#Preprocessing Data\n",
    "filepath = \"./Datasets\"\n",
    "filepath = re.sub(r'\\\\', '/', filepath)\n",
    "print(filepath)\n",
    "X1 = pd.read_csv(filepath + \"/Tatobea Project\" + '/'+ \"spa\" +'.txt', sep='\\t', header = None)[[0,1]].rename(columns = {0:\"English\", 1:\"Translated\"})\n",
    "X1 = X1[X1.notnull().all(axis = 1)]"
   ]
  },
  {
   "cell_type": "code",
   "execution_count": null,
   "id": "e7af5c6b",
   "metadata": {},
   "outputs": [],
   "source": [
    "print(X1)"
   ]
  },
  {
   "cell_type": "code",
   "execution_count": null,
   "id": "8188b81e",
   "metadata": {},
   "outputs": [],
   "source": [
    "X1['Translated'] = \"<ES> \" + X1['Translated']"
   ]
  },
  {
   "cell_type": "code",
   "execution_count": null,
   "id": "e47e98e5",
   "metadata": {},
   "outputs": [],
   "source": [
    "print(X1)"
   ]
  },
  {
   "cell_type": "code",
   "execution_count": null,
   "id": "06c447aa",
   "metadata": {},
   "outputs": [],
   "source": [
    "train_x = pd.DataFrame()"
   ]
  },
  {
   "cell_type": "code",
   "execution_count": null,
   "id": "6cc30d94",
   "metadata": {},
   "outputs": [],
   "source": [
    "for d in [x[0] for x in os.walk(filepath + \"/DGT-TM\")]:\n",
    "    print(d)\n",
    "    print(d[-6:])\n",
    "    #Ignores TMX files\n",
    "    if d[-1] == \")\" or d[-6:] == \"DGT-TM\":\n",
    "        continue\n",
    "    #This code actually works, however due to the dataset it takes 1+ hour to run.\n",
    "    #Because of this, at least for now I'll be restricting it to just the EN-ES folder.\n",
    "    te = True\n",
    "    if d[-5:] != \"EN-ES\":\n",
    "        te = False\n",
    "        continue\n",
    "    \n",
    "    fp = re.sub(r'\\\\', '/', d)\n",
    "    E = fp.split(\"/\")[-1].split(\"-\")[0]\n",
    "    print(E)\n",
    "    T = fp.split(\"/\")[-1].split(\"-\")[1]\n",
    "    print(T)\n",
    "    print(d + '/'+ E + \"-\" + T +'.txt')\n",
    "    \n",
    "    temp = pd.read_csv(d + '/'+ E + \"-\" + T +'.txt', sep='\\t', header = None)[[0,1]].rename(columns = {0:\"English\", 1:\"Translated\"})\n",
    "    temp = temp[temp.notnull().all(axis = 1)]\n",
    "    temp['Translated'] = \"<\" + T + \"> \" + temp['Translated']\n",
    "    \n",
    "    print(temp.head())\n",
    "    if te:\n",
    "        X1 = pd.concat([X1, temp])\n",
    "    else:\n",
    "        train_x = pd.concat([train_x, temp])\n"
   ]
  },
  {
   "cell_type": "code",
   "execution_count": null,
   "id": "bb52bf66",
   "metadata": {},
   "outputs": [],
   "source": [
    "Y1 = pd.DataFrame()\n",
    "Y1['Translated'] = X1.pop(\"Translated\")\n",
    "Y1['Translated'] = \"[start] \" + Y1['Translated'] + \" [end]\""
   ]
  },
  {
   "cell_type": "code",
   "execution_count": null,
   "id": "643752f6",
   "metadata": {},
   "outputs": [],
   "source": [
    "print(Y1)"
   ]
  },
  {
   "cell_type": "code",
   "execution_count": null,
   "id": "3f6f2ece",
   "metadata": {},
   "outputs": [],
   "source": [
    "train_x1, test_x, train_y1, test_y = train_test_split(X1, Y1, test_size=0.5, random_state=42)"
   ]
  },
  {
   "cell_type": "code",
   "execution_count": null,
   "id": "1a995787",
   "metadata": {},
   "outputs": [],
   "source": [
    "#val_x, test_x, val_y, test_y = train_test_split(test_x, test_y, test_size=0.5, random_state=42)"
   ]
  },
  {
   "cell_type": "code",
   "execution_count": null,
   "id": "592b1324",
   "metadata": {},
   "outputs": [],
   "source": [
    "try:\n",
    "    train_y = train_x.pop(\"Translated\")\n",
    "except:\n",
    "    #train_x doesn't have any portions, so we'll just describe it as a normal Dataframe\n",
    "    train_y = pd.DataFrame()"
   ]
  },
  {
   "cell_type": "code",
   "execution_count": null,
   "id": "616f89e9",
   "metadata": {},
   "outputs": [],
   "source": [
    "train_x = pd.concat([train_x, train_x1])"
   ]
  },
  {
   "cell_type": "code",
   "execution_count": null,
   "id": "a1975bf4",
   "metadata": {},
   "outputs": [],
   "source": [
    "train_y = pd.concat([train_y, train_y1])"
   ]
  },
  {
   "cell_type": "code",
   "execution_count": null,
   "id": "148fc0fa",
   "metadata": {},
   "outputs": [],
   "source": [
    "del train_x1\n",
    "del train_y1\n",
    "del X1\n",
    "del Y1\n",
    "del temp"
   ]
  },
  {
   "cell_type": "code",
   "execution_count": null,
   "id": "17bf6479",
   "metadata": {},
   "outputs": [],
   "source": [
    "print(train_x)\n",
    "print(train_y)\n",
    "print(test_x)\n",
    "print(test_y)"
   ]
  },
  {
   "cell_type": "code",
   "execution_count": null,
   "id": "c7348904",
   "metadata": {},
   "outputs": [],
   "source": [
    "print(train_x.shape)\n",
    "print(train_y.shape)\n",
    "print(test_x.shape)\n",
    "print(test_y.shape)"
   ]
  },
  {
   "cell_type": "code",
   "execution_count": null,
   "id": "a8f5f087",
   "metadata": {},
   "outputs": [],
   "source": [
    "train_pairs = pd.concat([train_x['English'], train_y['Translated']], axis=1).values.tolist()\n",
    "val_pairs = pd.concat([test_x['English'], test_y['Translated']], axis=1).values.tolist()\n",
    "print(train_pairs[0])\n",
    "print(train_pairs[1])"
   ]
  },
  {
   "cell_type": "code",
   "execution_count": null,
   "id": "9d8b90bb",
   "metadata": {},
   "outputs": [],
   "source": []
  },
  {
   "cell_type": "code",
   "execution_count": null,
   "id": "ed458f60",
   "metadata": {},
   "outputs": [],
   "source": [
    "#train_x = train_x.astype(str)\n",
    "#test_x = test_x.astype(str)"
   ]
  },
  {
   "cell_type": "code",
   "execution_count": null,
   "id": "8963c8e2",
   "metadata": {},
   "outputs": [],
   "source": [
    "#X = pd.concat([train_x, test_x])\n",
    "#Y = pd.concat([train_y, test_y])\n",
    "#Y_SP = Y[Y['Translated'].str.contains(\"<ES>\")]"
   ]
  },
  {
   "cell_type": "code",
   "execution_count": null,
   "id": "c0ee9049",
   "metadata": {},
   "outputs": [],
   "source": [
    "file = open('engvocab.txt', 'r', encoding=\"utf-8\")\n",
    "input_vocab = file.read().split(\"\\n\")\n",
    "file.close()\n",
    "input_vocab_size = len(input_vocab)\n",
    "\n",
    "file = open('spavocab.txt', 'r', encoding=\"utf-8\")\n",
    "output_vocab = file.read().split(\"\\n\")\n",
    "file.close()\n",
    "output_vocab_size = len(output_vocab)"
   ]
  },
  {
   "cell_type": "code",
   "execution_count": null,
   "id": "94af63d7",
   "metadata": {},
   "outputs": [],
   "source": [
    "del input_vocab[-1]\n",
    "del output_vocab[-1]"
   ]
  },
  {
   "cell_type": "code",
   "execution_count": null,
   "id": "8abf9687",
   "metadata": {},
   "outputs": [],
   "source": [
    "strip_chars = string.punctuation + \"¿\"\n",
    "strip_chars = strip_chars.replace(\"[\", \"\")\n",
    "strip_chars = strip_chars.replace(\"]\", \"\")\n",
    "\n",
    "vocab_size = 15000\n",
    "sequence_length = 20\n",
    "batch_size = 64\n",
    "\n",
    "\n",
    "def custom_standardization(input_string):\n",
    "    lowercase = tf.strings.lower(input_string)\n",
    "    return tf.strings.regex_replace(lowercase, \"[%s]\" % re.escape(strip_chars), \"\")\n",
    "\n",
    "\n",
    "eng_vectorization = TextVectorization(\n",
    "    max_tokens=input_vocab_size,\n",
    "    output_mode=\"int\",\n",
    "    output_sequence_length=sequence_length,\n",
    "    vocabulary=input_vocab,\n",
    ")\n",
    "spa_vectorization = TextVectorization(\n",
    "    max_tokens=output_vocab_size,\n",
    "    output_mode=\"int\",\n",
    "    output_sequence_length=sequence_length + 1,\n",
    "    standardize=custom_standardization,\n",
    "    vocabulary=output_vocab,\n",
    ")\n",
    "train_eng_texts = [pair[0] for pair in train_pairs]\n",
    "train_spa_texts = [pair[1] for pair in train_pairs]\n",
    "#eng_vectorization.adapt(train_eng_texts)\n",
    "#spa_vectorization.adapt(train_spa_texts)"
   ]
  },
  {
   "cell_type": "code",
   "execution_count": null,
   "id": "a9ba3f8f",
   "metadata": {},
   "outputs": [],
   "source": [
    "def format_dataset(eng, spa):\n",
    "    eng = eng_vectorization(eng)\n",
    "    spa = spa_vectorization(spa)\n",
    "    return (\n",
    "        {\n",
    "            \"encoder_inputs\": eng,\n",
    "            \"decoder_inputs\": spa[:, :-1],\n",
    "        },\n",
    "        spa[:, 1:],\n",
    "    )\n",
    "\n",
    "\n",
    "def make_dataset(pairs):\n",
    "    eng_texts, spa_texts = zip(*pairs)\n",
    "    eng_texts = list(eng_texts)\n",
    "    spa_texts = list(spa_texts)\n",
    "    dataset = tf.data.Dataset.from_tensor_slices((eng_texts, spa_texts))\n",
    "    dataset = dataset.batch(batch_size)\n",
    "    dataset = dataset.map(format_dataset)\n",
    "    return dataset.shuffle(2048).prefetch(16).cache()\n",
    "\n",
    "\n",
    "train_ds = make_dataset(train_pairs)\n",
    "val_ds = make_dataset(val_pairs)"
   ]
  },
  {
   "cell_type": "code",
   "execution_count": null,
   "id": "38273a0a",
   "metadata": {},
   "outputs": [],
   "source": [
    "#STOP"
   ]
  },
  {
   "cell_type": "code",
   "execution_count": null,
   "id": "bcfd3aab",
   "metadata": {},
   "outputs": [],
   "source": [
    "#Actual Model:\n",
    "#For now, let's start by creating an exact copy of the attention is all you need model.\n",
    "#I tried for a long time to make a model using only the Keras Functional API,\n",
    "#but it seems like I will need to create some custom layers in order to succeed.\n"
   ]
  },
  {
   "cell_type": "code",
   "execution_count": null,
   "id": "4fc127e0",
   "metadata": {},
   "outputs": [],
   "source": [
    "def point_wise_feed_forward_network(\n",
    "  d_model, # Input/output dimensionality.\n",
    "  dff # Inner-layer dimensionality.\n",
    "  ):\n",
    "\n",
    "    return tf.keras.Sequential([\n",
    "      tf.keras.layers.Dense(dff, activation='relu'),  # Shape `(batch_size, seq_len, dff)`.\n",
    "      tf.keras.layers.Dense(d_model)  # Shape `(batch_size, seq_len, d_model)`.\n",
    "    ])"
   ]
  },
  {
   "cell_type": "code",
   "execution_count": null,
   "id": "20696428",
   "metadata": {},
   "outputs": [],
   "source": [
    "class EncoderLayer(tf.keras.layers.Layer):\n",
    "    def __init__(self,*,\n",
    "               d_model, # Input/output dimensionality.\n",
    "               num_attention_heads,\n",
    "               dff, # Inner-layer dimensionality.\n",
    "               dropout_rate=0.1\n",
    "               ):\n",
    "        super(EncoderLayer, self).__init__()\n",
    "\n",
    "\n",
    "        self.embed_dim = d_model\n",
    "        self.dense_dim = dff\n",
    "        self.num_heads = num_attention_heads\n",
    "        \n",
    "        self.attention = tf.keras.layers.MultiHeadAttention(\n",
    "            num_heads=num_heads, key_dim=embed_dim\n",
    "        )\n",
    "        \n",
    "        self.dense_proj = point_wise_feed_forward_network(d_model, dff)\n",
    "\n",
    "        self.layernorm_1 = tf.keras.layers.LayerNormalization()\n",
    "        self.layernorm_2 = tf.keras.layers.LayerNormalization()\n",
    "\n",
    "\n",
    "        # Dropout for the point-wise feed-forward network.\n",
    "        self.dropout1 = tf.keras.layers.Dropout(dropout_rate)\n",
    "    \n",
    "        self.supports_masking = True\n",
    "\n",
    "    def call(self, inputs, mask=None):\n",
    "\n",
    "\n",
    "        attention_output = self.attention(query=inputs, value=inputs, key=inputs)\n",
    "        proj_input = self.layernorm_1(inputs + attention_output)\n",
    "        proj_output = self.dense_proj(proj_input)\n",
    "        return self.layernorm_2(proj_input + proj_output)"
   ]
  },
  {
   "cell_type": "code",
   "execution_count": null,
   "id": "eafdb8eb",
   "metadata": {},
   "outputs": [],
   "source": [
    "class DecoderLayer(tf.keras.layers.Layer):\n",
    "    def __init__(self,\n",
    "               *,\n",
    "               d_model, # Input/output dimensionality.\n",
    "               num_attention_heads,\n",
    "               dff, # Inner-layer dimensionality.\n",
    "               dropout_rate=0.1\n",
    "               ):\n",
    "        super(DecoderLayer, self).__init__()\n",
    "\n",
    "        # Masked multi-head self-attention.\n",
    "        self.attention_1 = tf.keras.layers.MultiHeadAttention(\n",
    "            num_heads=num_attention_heads,\n",
    "            key_dim=d_model, # Size of each attention head for query Q and key K.\n",
    "            dropout=dropout_rate\n",
    "        )\n",
    "        # Multi-head cross-attention.\n",
    "        self.attention_2 = tf.keras.layers.MultiHeadAttention(\n",
    "            num_heads=num_attention_heads,\n",
    "            key_dim=d_model, # Size of each attention head for query Q and key K.\n",
    "            dropout=dropout_rate\n",
    "        )\n",
    "\n",
    "        # Point-wise feed-forward network.\n",
    "        self.dense_proj = point_wise_feed_forward_network(d_model, dff)\n",
    "\n",
    "        # Layer normalization.\n",
    "        self.layernorm_1 = tf.keras.layers.LayerNormalization(epsilon=1e-6)\n",
    "        self.layernorm_2 = tf.keras.layers.LayerNormalization(epsilon=1e-6)\n",
    "        self.layernorm_3 = tf.keras.layers.LayerNormalization(epsilon=1e-6)\n",
    "        \n",
    "        self.add = tf.keras.layers.Add()  # instead of `+` to preserve mask\n",
    "\n",
    "        # Dropout for the point-wise feed-forward network.\n",
    "        #self.dropout1 = tf.keras.layers.Dropout(dropout_rate)\n",
    "\n",
    "    def call(self, inputs, encoder_outputs, mask=None):\n",
    "        # The encoder output shape is `(batch_size, input_seq_len, d_model)`.\n",
    "\n",
    "    \n",
    "        attention_output_1 = self.attention_1(\n",
    "            query=inputs, value=inputs, key=inputs, use_causal_mask=True\n",
    "        )\n",
    "        out_1 = self.layernorm_1(self.add([inputs, attention_output_1]))\n",
    "\n",
    "        attention_output_2 = self.attention_2(\n",
    "            query=out_1,\n",
    "            value=encoder_outputs,\n",
    "            key=encoder_outputs,\n",
    "        )\n",
    "        out_2 = self.layernorm_2(self.add([out_1, attention_output_2]))\n",
    "\n",
    "        proj_output = self.dense_proj(out_2)\n",
    "        return self.layernorm_3(self.add([out_2, proj_output]))\n"
   ]
  },
  {
   "cell_type": "code",
   "execution_count": null,
   "id": "830bae31",
   "metadata": {},
   "outputs": [],
   "source": [
    "#Original hyperparameters\n",
    "num_layers = 4\n",
    "embed_dim = 256\n",
    "latent_dim = 512\n",
    "num_heads = 8\n",
    "dropout_rate = 0.1\n",
    "epochs=50\n",
    "batch_size = 128\n",
    "sequence_length = 256"
   ]
  },
  {
   "cell_type": "code",
   "execution_count": null,
   "id": "e6890a8e",
   "metadata": {},
   "outputs": [],
   "source": [
    "#Dataset_train = tf.data.Dataset.from_tensor_slices((x_train_tensor, y_train_tensor)).batch(batch_size)\n",
    "#Dataset_test = tf.data.Dataset.from_tensor_slices((x_test_tensor, y_test_tensor)).batch(batch_size)"
   ]
  },
  {
   "cell_type": "code",
   "execution_count": null,
   "id": "80cb5843",
   "metadata": {},
   "outputs": [],
   "source": [
    "#tf.compat.v1.disable_eager_execution()"
   ]
  },
  {
   "cell_type": "code",
   "execution_count": null,
   "id": "d08d984e",
   "metadata": {},
   "outputs": [],
   "source": [
    "#print(Dataset_train)\n",
    "#print(Dataset_test)"
   ]
  },
  {
   "cell_type": "code",
   "execution_count": null,
   "id": "00825243",
   "metadata": {},
   "outputs": [],
   "source": [
    "class TransformerEncoder(tf.keras.layers.Layer):\n",
    "    def __init__(self, embed_dim, dense_dim, num_heads, num_layers, dropout_rate, **kwargs):\n",
    "        super().__init__(**kwargs)\n",
    "        self.embed_dim = embed_dim\n",
    "        self.dense_dim = dense_dim\n",
    "        self.num_heads = num_heads\n",
    "        self.num_layers = num_layers\n",
    "        \n",
    "        self.enc_layers = [\n",
    "        EncoderLayer(\n",
    "          d_model=embed_dim,\n",
    "          num_attention_heads=num_heads,\n",
    "          dff=dense_dim,\n",
    "          dropout_rate=dropout_rate)\n",
    "        for _ in range(num_layers)]\n",
    "        \n",
    "        self.supports_masking = True\n",
    "\n",
    "    def call(self, inputs, mask=None):\n",
    "        x = inputs\n",
    "        for i in range(self.num_layers):\n",
    "            #x = self.enc_layers[i](x, mask)\n",
    "            x = self.enc_layers[i](x)\n",
    "        return x\n",
    "\n",
    "    def get_config(self):\n",
    "        config = super().get_config()\n",
    "        config.update(\n",
    "            {\n",
    "                \"embed_dim\": self.embed_dim,\n",
    "                \"dense_dim\": self.dense_dim,\n",
    "                \"num_heads\": self.num_heads,\n",
    "            }\n",
    "        )\n",
    "        return config\n",
    "\n",
    "\n",
    "\n",
    "\n"
   ]
  },
  {
   "cell_type": "code",
   "execution_count": null,
   "id": "f7efcb57",
   "metadata": {},
   "outputs": [],
   "source": [
    "class PositionalEmbedding(tf.keras.layers.Layer):\n",
    "    def __init__(self, sequence_length, vocab_size, embed_dim, **kwargs):\n",
    "        super().__init__(**kwargs)\n",
    "        self.token_embeddings = Embedding(\n",
    "            input_dim=vocab_size, output_dim=embed_dim\n",
    "        )\n",
    "        self.position_embeddings = Embedding(\n",
    "            input_dim=sequence_length, output_dim=embed_dim\n",
    "        )\n",
    "        self.sequence_length = sequence_length\n",
    "        self.vocab_size = vocab_size\n",
    "        self.embed_dim = embed_dim\n",
    "\n",
    "    def call(self, inputs):\n",
    "        length = tf.shape(inputs)[-1]\n",
    "        positions = tf.range(start=0, limit=length, delta=1)\n",
    "        embedded_tokens = self.token_embeddings(inputs)\n",
    "        embedded_positions = self.position_embeddings(positions)\n",
    "        return embedded_tokens + embedded_positions\n",
    "\n",
    "    def compute_mask(self, inputs, mask=None):\n",
    "        return tf.math.not_equal(inputs, 0)\n",
    "\n",
    "    def get_config(self):\n",
    "        config = super().get_config()\n",
    "        config.update(\n",
    "            {\n",
    "                \"sequence_length\": self.sequence_length,\n",
    "                \"vocab_size\": self.vocab_size,\n",
    "                \"embed_dim\": self.embed_dim,\n",
    "            }\n",
    "        )\n",
    "        return config\n"
   ]
  },
  {
   "cell_type": "code",
   "execution_count": null,
   "id": "523da844",
   "metadata": {},
   "outputs": [],
   "source": [
    "class TransformerDecoder(tf.keras.layers.Layer):\n",
    "    def __init__(self, embed_dim, latent_dim, num_heads, num_layers,  dropout_rate, **kwargs):\n",
    "        super().__init__(**kwargs)\n",
    "        self.embed_dim = embed_dim\n",
    "        self.latent_dim = latent_dim\n",
    "        self.num_heads = num_heads\n",
    "        self.num_layers = num_layers\n",
    "        \n",
    "        self.dec_layers = [\n",
    "        DecoderLayer(\n",
    "          d_model=embed_dim,\n",
    "          num_attention_heads=num_heads,\n",
    "          dff=latent_dim,\n",
    "          dropout_rate=dropout_rate)\n",
    "        for _ in range(num_layers)]\n",
    "        \n",
    "        self.supports_masking = True\n",
    "\n",
    "    def call(self, inputs, encoder_outputs, mask=None):\n",
    "        x = inputs\n",
    "        for i in range(self.num_layers):\n",
    "            #x = self.dec_layers[i](x, mask)\n",
    "            x = self.dec_layers[i](x, encoder_outputs)\n",
    "        return x\n",
    "\n",
    "    def get_config(self):\n",
    "        config = super().get_config()\n",
    "        config.update(\n",
    "            {\n",
    "                \"embed_dim\": self.embed_dim,\n",
    "                \"latent_dim\": self.latent_dim,\n",
    "                \"num_heads\": self.num_heads,\n",
    "            }\n",
    "        )\n",
    "        return config"
   ]
  },
  {
   "cell_type": "code",
   "execution_count": null,
   "id": "c437cb1d",
   "metadata": {},
   "outputs": [],
   "source": [
    "print(input_vocab_size)"
   ]
  },
  {
   "cell_type": "code",
   "execution_count": null,
   "id": "9c66f067",
   "metadata": {},
   "outputs": [],
   "source": [
    "encoder_inputs = keras.Input(shape=(None,), dtype=\"int64\", name=\"encoder_inputs\")\n",
    "x = PositionalEmbedding(sequence_length, input_vocab_size, embed_dim)(encoder_inputs)\n",
    "encoder_outputs = TransformerEncoder(embed_dim, latent_dim, num_heads, num_layers, dropout_rate)(x)\n",
    "encoder = keras.Model(encoder_inputs, encoder_outputs)\n",
    "\n",
    "decoder_inputs = keras.Input(shape=(None,), dtype=\"int64\", name=\"decoder_inputs\")\n",
    "encoded_seq_inputs = keras.Input(shape=(None, embed_dim), name=\"decoder_state_inputs\")\n",
    "x = PositionalEmbedding(sequence_length, output_vocab_size, embed_dim)(decoder_inputs)\n",
    "x = TransformerDecoder(embed_dim, latent_dim, num_heads, num_layers, dropout_rate)(x, encoded_seq_inputs)\n",
    "x = tf.keras.layers.Dropout(0.5)(x)\n",
    "decoder_outputs = tf.keras.layers.Dense(output_vocab_size, activation=\"softmax\")(x)\n",
    "decoder = keras.Model([decoder_inputs, encoded_seq_inputs], decoder_outputs)\n",
    "\n",
    "decoder_outputs = decoder([decoder_inputs, encoder_outputs])\n",
    "transformer = keras.Model(\n",
    "    [encoder_inputs, decoder_inputs], decoder_outputs, name=\"transformer\"\n",
    ")"
   ]
  },
  {
   "cell_type": "code",
   "execution_count": null,
   "id": "5ede4650",
   "metadata": {},
   "outputs": [],
   "source": [
    "#tf.compat.v1.enable_eager_execution()"
   ]
  },
  {
   "cell_type": "code",
   "execution_count": null,
   "id": "497e6120",
   "metadata": {},
   "outputs": [],
   "source": [
    "transformer.summary()\n",
    "transformer.compile(\n",
    "    \"rmsprop\", loss=\"sparse_categorical_crossentropy\", metrics=[\"accuracy\"]\n",
    ")"
   ]
  },
  {
   "cell_type": "code",
   "execution_count": null,
   "id": "170cce7d",
   "metadata": {},
   "outputs": [],
   "source": [
    "#with tf.device('/GPU:0'):\n",
    "transformer.fit(train_ds, epochs=epochs, validation_data=val_ds)"
   ]
  },
  {
   "cell_type": "code",
   "execution_count": null,
   "id": "0e6a1d14",
   "metadata": {},
   "outputs": [],
   "source": [
    "gpus = tf.config.list_physical_devices('GPU')\n",
    "print(gpus)"
   ]
  },
  {
   "cell_type": "code",
   "execution_count": null,
   "id": "6995546f",
   "metadata": {},
   "outputs": [],
   "source": [
    "print(\"Num GPUs Available: \", len(tf.config.list_physical_devices('GPU')))"
   ]
  },
  {
   "cell_type": "code",
   "execution_count": null,
   "id": "e2d9a393",
   "metadata": {},
   "outputs": [],
   "source": [
    "print(tf.__version__)"
   ]
  },
  {
   "cell_type": "code",
   "execution_count": null,
   "id": "1fea87b8",
   "metadata": {},
   "outputs": [],
   "source": [
    "print(tf.test.is_built_with_cuda())\n",
    "print(tf.test.is_gpu_available(cuda_only=False, min_cuda_compute_capability=None))"
   ]
  },
  {
   "cell_type": "code",
   "execution_count": null,
   "id": "48c78883",
   "metadata": {},
   "outputs": [],
   "source": [
    "#i = Input(shape=(max_length))"
   ]
  },
  {
   "cell_type": "code",
   "execution_count": null,
   "id": "c112280d",
   "metadata": {},
   "outputs": [],
   "source": [
    "#r = open(\"textvectorvocap.txt\", \"r\", encoding=\"utf-8\")\n",
    "#m = r.readline().split(\"*\")"
   ]
  },
  {
   "cell_type": "code",
   "execution_count": null,
   "id": "702e264d",
   "metadata": {},
   "outputs": [],
   "source": [
    "#TLayer = TextVectorization(output_sequence_length = max_padding_size, vocabulary = m, output_mode = \"int\")\n",
    "#inp = TextVectorization(output_sequence_length = max_padding_size)"
   ]
  },
  {
   "cell_type": "code",
   "execution_count": null,
   "id": "c8d52056",
   "metadata": {},
   "outputs": [],
   "source": [
    "#inp = TLayer(i)"
   ]
  },
  {
   "cell_type": "code",
   "execution_count": null,
   "id": "0c040a20",
   "metadata": {},
   "outputs": [],
   "source": [
    "#print(inp)"
   ]
  },
  {
   "cell_type": "code",
   "execution_count": null,
   "id": "bba2fbbe",
   "metadata": {},
   "outputs": [],
   "source": [
    "#inp.adapt(train_x)"
   ]
  },
  {
   "cell_type": "code",
   "execution_count": null,
   "id": "4ee294dc",
   "metadata": {},
   "outputs": [],
   "source": [
    "#dir(inp)"
   ]
  },
  {
   "cell_type": "code",
   "execution_count": null,
   "id": "495d0ee4",
   "metadata": {},
   "outputs": [],
   "source": [
    "#print(inp.get_vocabulary())"
   ]
  },
  {
   "cell_type": "code",
   "execution_count": null,
   "id": "4b917cd6",
   "metadata": {},
   "outputs": [],
   "source": []
  },
  {
   "cell_type": "code",
   "execution_count": null,
   "id": "b6cb6d02",
   "metadata": {},
   "outputs": [],
   "source": [
    "#f = open(\"textvectorvocap.txt\", \"w\", encoding=\"utf-8\")\n",
    "#f.write(\"*\".join(inp.get_vocabulary()))\n",
    "#f.close()"
   ]
  },
  {
   "cell_type": "code",
   "execution_count": null,
   "id": "0ff44ee7",
   "metadata": {},
   "outputs": [],
   "source": [
    "#r = open(\"textvectorvocap.txt\", \"r\", encoding=\"utf-8\")\n",
    "#m = r.readline().split(\"*\")"
   ]
  },
  {
   "cell_type": "code",
   "execution_count": null,
   "id": "1eb542f8",
   "metadata": {},
   "outputs": [],
   "source": [
    "#print(m == inp.get_vocabulary())"
   ]
  },
  {
   "cell_type": "code",
   "execution_count": null,
   "id": "d2e06a65",
   "metadata": {},
   "outputs": [],
   "source": []
  },
  {
   "cell_type": "code",
   "execution_count": null,
   "id": "b1ae4118",
   "metadata": {},
   "outputs": [],
   "source": [
    "#print(inp.vocabulary_size())"
   ]
  },
  {
   "cell_type": "code",
   "execution_count": null,
   "id": "d0637f83",
   "metadata": {},
   "outputs": [],
   "source": [
    "#train_x_vec = inp.predict(train_x)\n",
    "#test_x_vec = inp.predict(test_x)"
   ]
  },
  {
   "cell_type": "code",
   "execution_count": null,
   "id": "d4bb6946",
   "metadata": {},
   "outputs": [],
   "source": [
    "#print(i.__call__())"
   ]
  },
  {
   "cell_type": "code",
   "execution_count": null,
   "id": "f496769c",
   "metadata": {},
   "outputs": [],
   "source": [
    "#em = Embedding(input_dim = max_length, output_dim = 512)(inp)"
   ]
  },
  {
   "cell_type": "code",
   "execution_count": null,
   "id": "f5361145",
   "metadata": {},
   "outputs": [],
   "source": [
    "#posen = keras_nlp.layers.SinePositionEncoding()(em)"
   ]
  },
  {
   "cell_type": "code",
   "execution_count": null,
   "id": "c4e9e404",
   "metadata": {},
   "outputs": [],
   "source": [
    "#mh1 = MultiHeadAttention(num_heads=3, key_dim=512, value_dim=512)"
   ]
  },
  {
   "cell_type": "code",
   "execution_count": null,
   "id": "00b3e529",
   "metadata": {},
   "outputs": [],
   "source": [
    "#mho1 = mh1(posen, posen, posen)"
   ]
  },
  {
   "cell_type": "code",
   "execution_count": null,
   "id": "2c8c5c3d",
   "metadata": {},
   "outputs": [],
   "source": [
    "#no1 = LayerNormalization()\n",
    "#ou1 = no1(mho1+posen)"
   ]
  },
  {
   "cell_type": "code",
   "execution_count": null,
   "id": "2a4b0c8d",
   "metadata": {},
   "outputs": [],
   "source": [
    "#fe1 = Dense(512)(ou1)\n",
    "#ou2 = no1(ou1+fe1)"
   ]
  },
  {
   "cell_type": "code",
   "execution_count": null,
   "id": "a818784a",
   "metadata": {},
   "outputs": [],
   "source": [
    "#lin = Dense(tar_vocab_length)(ou2)"
   ]
  },
  {
   "cell_type": "code",
   "execution_count": null,
   "id": "7cb22ad6",
   "metadata": {},
   "outputs": [],
   "source": [
    "#s = Softmax()(lin)"
   ]
  },
  {
   "cell_type": "code",
   "execution_count": null,
   "id": "09597290",
   "metadata": {},
   "outputs": [],
   "source": [
    "#model = Model(inputs=i, outputs=s)\n",
    "#print(model.summary())"
   ]
  },
  {
   "cell_type": "code",
   "execution_count": null,
   "id": "a7a8e81d",
   "metadata": {},
   "outputs": [],
   "source": [
    "#Need to figure out metrics for language translation"
   ]
  }
 ],
 "metadata": {
  "kernelspec": {
   "display_name": "Python 3 (ipykernel)",
   "language": "python",
   "name": "python3"
  },
  "language_info": {
   "codemirror_mode": {
    "name": "ipython",
    "version": 3
   },
   "file_extension": ".py",
   "mimetype": "text/x-python",
   "name": "python",
   "nbconvert_exporter": "python",
   "pygments_lexer": "ipython3",
   "version": "3.9.18"
  }
 },
 "nbformat": 4,
 "nbformat_minor": 5
}
