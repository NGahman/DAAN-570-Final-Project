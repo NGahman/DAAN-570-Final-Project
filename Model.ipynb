{
 "cells": [
  {
   "cell_type": "code",
   "execution_count": null,
   "id": "945bf1e8",
   "metadata": {},
   "outputs": [],
   "source": [
    "#Installing necessary dependences:\n",
    "#!pip install -q keras-nlp"
   ]
  },
  {
   "cell_type": "code",
   "execution_count": null,
   "id": "e3cb425f",
   "metadata": {},
   "outputs": [],
   "source": [
    "#imports:\n",
    "import tensorflow as tf\n",
    "from tensorflow import keras\n",
    "import pandas as pd\n",
    "import numpy as np\n",
    "import os\n",
    "import re\n",
    "from sklearn.model_selection import train_test_split\n",
    "from keras.layers import Embedding, Dense, MultiHeadAttention, Softmax, TextVectorization\n",
    "from tensorflow.keras import Model, Input\n",
    "from tensorflow.keras.models import Sequential\n",
    "import keras_nlp"
   ]
  },
  {
   "cell_type": "code",
   "execution_count": null,
   "id": "14473d53",
   "metadata": {},
   "outputs": [],
   "source": []
  },
  {
   "cell_type": "code",
   "execution_count": null,
   "id": "bff6f9f5",
   "metadata": {},
   "outputs": [],
   "source": []
  },
  {
   "cell_type": "code",
   "execution_count": null,
   "id": "e54d52dd",
   "metadata": {},
   "outputs": [],
   "source": [
    "#Preprocessing Data\n",
    "filepath = os.path.dirname(os.path.dirname(os.path.abspath(\".\"))) + \"/Datasets\"\n",
    "filepath = re.sub(r'\\\\', '/', filepath)\n",
    "print(filepath)\n",
    "X1 = pd.read_csv(filepath + \"/Tatobea Project\" + '/'+ \"spa\" +'.txt', sep='\\t', header = None)[[0,1]].rename(columns = {0:\"English\", 1:\"Translated\"})\n"
   ]
  },
  {
   "cell_type": "code",
   "execution_count": null,
   "id": "e7af5c6b",
   "metadata": {},
   "outputs": [],
   "source": [
    "print(X1)"
   ]
  },
  {
   "cell_type": "code",
   "execution_count": null,
   "id": "8188b81e",
   "metadata": {},
   "outputs": [],
   "source": [
    "X1['Translated'] = \"<ES> \" + X1['Translated']"
   ]
  },
  {
   "cell_type": "code",
   "execution_count": null,
   "id": "e47e98e5",
   "metadata": {},
   "outputs": [],
   "source": [
    "print(X1)"
   ]
  },
  {
   "cell_type": "code",
   "execution_count": null,
   "id": "06c447aa",
   "metadata": {},
   "outputs": [],
   "source": [
    "train_x = pd.DataFrame()"
   ]
  },
  {
   "cell_type": "code",
   "execution_count": null,
   "id": "6cc30d94",
   "metadata": {},
   "outputs": [],
   "source": [
    "for d in [x[0] for x in os.walk(filepath + \"/DGT-TM\")]:\n",
    "    print(d)\n",
    "    print(d[-6:])\n",
    "    #Ignores TMX files\n",
    "    if d[-1] == \")\" or d[-6:] == \"DGT-TM\":\n",
    "        continue\n",
    "    #This code actually works, however due to the dataset it takes 1+ hour to run.\n",
    "    #Because of this, at least for now I'll be restricting it to just the EN-ES folder.\n",
    "    te = True\n",
    "    if d[-5:] != \"EN-ES\":\n",
    "        te = False\n",
    "        continue\n",
    "    \n",
    "    fp = re.sub(r'\\\\', '/', d)\n",
    "    E = fp.split(\"/\")[-1].split(\"-\")[0]\n",
    "    print(E)\n",
    "    T = fp.split(\"/\")[-1].split(\"-\")[1]\n",
    "    print(T)\n",
    "    print(d + '/'+ E + \"-\" + T +'.txt')\n",
    "    \n",
    "    temp = pd.read_csv(d + '/'+ E + \"-\" + T +'.txt', sep='\\t', header = None)[[0,1]].rename(columns = {0:\"English\", 1:\"Translated\"})\n",
    "    temp['Translated'] = \"<\" + T + \"> \" + temp['Translated']\n",
    "    print(temp.head())\n",
    "    if te:\n",
    "        X1 = pd.concat([X1, temp])\n",
    "    else:\n",
    "        train_x = pd.concat([train_x, temp])\n"
   ]
  },
  {
   "cell_type": "code",
   "execution_count": null,
   "id": "bb52bf66",
   "metadata": {},
   "outputs": [],
   "source": [
    "Y1 = pd.DataFrame()\n",
    "Y1['Translated'] = X1.pop(\"Translated\")\n"
   ]
  },
  {
   "cell_type": "code",
   "execution_count": null,
   "id": "643752f6",
   "metadata": {},
   "outputs": [],
   "source": [
    "print(Y1)"
   ]
  },
  {
   "cell_type": "code",
   "execution_count": null,
   "id": "3f6f2ece",
   "metadata": {},
   "outputs": [],
   "source": [
    "train_x1, test_x, train_y1, test_y = train_test_split(X1, Y1, test_size=0.5, random_state=42)"
   ]
  },
  {
   "cell_type": "code",
   "execution_count": null,
   "id": "1a995787",
   "metadata": {},
   "outputs": [],
   "source": []
  },
  {
   "cell_type": "code",
   "execution_count": null,
   "id": "592b1324",
   "metadata": {},
   "outputs": [],
   "source": [
    "try:\n",
    "    train_y = train_x.pop(\"Translated\")\n",
    "except:\n",
    "    #train_x doesn't have any portions, so we'll just describe it as a normal Dataframe\n",
    "    train_y = pd.DataFrame()"
   ]
  },
  {
   "cell_type": "code",
   "execution_count": null,
   "id": "616f89e9",
   "metadata": {},
   "outputs": [],
   "source": [
    "train_x = pd.concat([train_x, train_x1])"
   ]
  },
  {
   "cell_type": "code",
   "execution_count": null,
   "id": "a1975bf4",
   "metadata": {},
   "outputs": [],
   "source": [
    "train_y = pd.concat([train_y, train_y1])"
   ]
  },
  {
   "cell_type": "code",
   "execution_count": null,
   "id": "17bf6479",
   "metadata": {},
   "outputs": [],
   "source": [
    "print(train_x)\n",
    "print(train_y)\n",
    "print(test_x)\n",
    "print(test_y)"
   ]
  },
  {
   "cell_type": "code",
   "execution_count": null,
   "id": "c7348904",
   "metadata": {},
   "outputs": [],
   "source": [
    "print(train_x.shape)\n",
    "print(train_y.shape)\n",
    "print(test_x.shape)\n",
    "print(test_y.shape)"
   ]
  },
  {
   "cell_type": "code",
   "execution_count": null,
   "id": "ed458f60",
   "metadata": {},
   "outputs": [],
   "source": [
    "train_x = train_x.astype(str)\n",
    "test_x = test_x.astype(str)"
   ]
  },
  {
   "cell_type": "code",
   "execution_count": null,
   "id": "f6e82d46",
   "metadata": {},
   "outputs": [],
   "source": [
    "max_padding_series = train_x['English'].str.split(\" \")"
   ]
  },
  {
   "cell_type": "code",
   "execution_count": null,
   "id": "a0b56a09",
   "metadata": {},
   "outputs": [],
   "source": [
    "max_padding_len = max_padding_series.str.len()"
   ]
  },
  {
   "cell_type": "code",
   "execution_count": null,
   "id": "ef7e1129",
   "metadata": {},
   "outputs": [],
   "source": [
    "print(max_padding_len)"
   ]
  },
  {
   "cell_type": "code",
   "execution_count": null,
   "id": "d2eab129",
   "metadata": {},
   "outputs": [],
   "source": [
    "max_padding_size = max_padding_len.max()"
   ]
  },
  {
   "cell_type": "code",
   "execution_count": null,
   "id": "71446d49",
   "metadata": {},
   "outputs": [],
   "source": [
    "print(max_padding_size)"
   ]
  },
  {
   "cell_type": "code",
   "execution_count": null,
   "id": "353d5c73",
   "metadata": {},
   "outputs": [],
   "source": []
  },
  {
   "cell_type": "code",
   "execution_count": null,
   "id": "bcfd3aab",
   "metadata": {},
   "outputs": [],
   "source": [
    "#Actual Model:\n",
    "#For now, let's start by creating an exact copy of the attention is all you need model.\n",
    "#We can always make changes later if we want to.\n",
    "i = Input(shape=(1,))"
   ]
  },
  {
   "cell_type": "code",
   "execution_count": null,
   "id": "c112280d",
   "metadata": {},
   "outputs": [],
   "source": [
    "r = open(\"textvectorvocap.txt\", \"r\", encoding=\"utf-8\")\n",
    "m = r.readline().split(\"*\")"
   ]
  },
  {
   "cell_type": "code",
   "execution_count": null,
   "id": "702e264d",
   "metadata": {},
   "outputs": [],
   "source": [
    "TLayer = TextVectorization(output_sequence_length = max_padding_size, vocabulary = m, output_mode = \"int\")\n",
    "#inp = TextVectorization(output_sequence_length = max_padding_size)"
   ]
  },
  {
   "cell_type": "code",
   "execution_count": null,
   "id": "c8d52056",
   "metadata": {},
   "outputs": [],
   "source": [
    "inp = TLayer(i)"
   ]
  },
  {
   "cell_type": "code",
   "execution_count": null,
   "id": "0c040a20",
   "metadata": {},
   "outputs": [],
   "source": [
    "print(inp)"
   ]
  },
  {
   "cell_type": "code",
   "execution_count": null,
   "id": "bba2fbbe",
   "metadata": {},
   "outputs": [],
   "source": [
    "#inp.adapt(train_x)"
   ]
  },
  {
   "cell_type": "code",
   "execution_count": null,
   "id": "4ee294dc",
   "metadata": {},
   "outputs": [],
   "source": [
    "#dir(inp)"
   ]
  },
  {
   "cell_type": "code",
   "execution_count": null,
   "id": "495d0ee4",
   "metadata": {},
   "outputs": [],
   "source": [
    "#print(inp.get_vocabulary())"
   ]
  },
  {
   "cell_type": "code",
   "execution_count": null,
   "id": "4b917cd6",
   "metadata": {},
   "outputs": [],
   "source": []
  },
  {
   "cell_type": "code",
   "execution_count": null,
   "id": "b6cb6d02",
   "metadata": {},
   "outputs": [],
   "source": [
    "#f = open(\"textvectorvocap.txt\", \"w\", encoding=\"utf-8\")\n",
    "#f.write(\"*\".join(inp.get_vocabulary()))\n",
    "#f.close()"
   ]
  },
  {
   "cell_type": "code",
   "execution_count": null,
   "id": "0ff44ee7",
   "metadata": {},
   "outputs": [],
   "source": [
    "#r = open(\"textvectorvocap.txt\", \"r\", encoding=\"utf-8\")\n",
    "#m = r.readline().split(\"*\")"
   ]
  },
  {
   "cell_type": "code",
   "execution_count": null,
   "id": "1eb542f8",
   "metadata": {},
   "outputs": [],
   "source": [
    "#print(m == inp.get_vocabulary())"
   ]
  },
  {
   "cell_type": "code",
   "execution_count": null,
   "id": "d2e06a65",
   "metadata": {},
   "outputs": [],
   "source": []
  },
  {
   "cell_type": "code",
   "execution_count": null,
   "id": "b1ae4118",
   "metadata": {},
   "outputs": [],
   "source": [
    "#print(inp.vocabulary_size())"
   ]
  },
  {
   "cell_type": "code",
   "execution_count": null,
   "id": "d0637f83",
   "metadata": {},
   "outputs": [],
   "source": [
    "#train_x_vec = inp.predict(train_x)\n",
    "#test_x_vec = inp.predict(test_x)"
   ]
  },
  {
   "cell_type": "code",
   "execution_count": null,
   "id": "d4bb6946",
   "metadata": {},
   "outputs": [],
   "source": [
    "#print(i.__call__())"
   ]
  },
  {
   "cell_type": "code",
   "execution_count": null,
   "id": "f496769c",
   "metadata": {},
   "outputs": [],
   "source": [
    "em = Embedding(input_dim = TLayer.vocabulary_size(), output_dim = 512)(inp)"
   ]
  },
  {
   "cell_type": "code",
   "execution_count": null,
   "id": "f5361145",
   "metadata": {},
   "outputs": [],
   "source": [
    "posen = tf.keras.layers.SinePositionEncoding()(em)"
   ]
  },
  {
   "cell_type": "code",
   "execution_count": null,
   "id": "a818784a",
   "metadata": {},
   "outputs": [],
   "source": [
    "#This is a temporary layer only created so that I can see the model results\n",
    "d = Dense(512)(em)"
   ]
  },
  {
   "cell_type": "code",
   "execution_count": null,
   "id": "7cb22ad6",
   "metadata": {},
   "outputs": [],
   "source": [
    "s = Softmax()(d)"
   ]
  },
  {
   "cell_type": "code",
   "execution_count": null,
   "id": "b4d068da",
   "metadata": {},
   "outputs": [],
   "source": []
  },
  {
   "cell_type": "code",
   "execution_count": null,
   "id": "67cd94f1",
   "metadata": {},
   "outputs": [],
   "source": []
  },
  {
   "cell_type": "code",
   "execution_count": null,
   "id": "ab891efd",
   "metadata": {},
   "outputs": [],
   "source": []
  },
  {
   "cell_type": "code",
   "execution_count": null,
   "id": "7a78f02f",
   "metadata": {},
   "outputs": [],
   "source": []
  },
  {
   "cell_type": "code",
   "execution_count": null,
   "id": "778de327",
   "metadata": {},
   "outputs": [],
   "source": []
  },
  {
   "cell_type": "code",
   "execution_count": null,
   "id": "b6fbbe7a",
   "metadata": {},
   "outputs": [],
   "source": []
  },
  {
   "cell_type": "code",
   "execution_count": null,
   "id": "09597290",
   "metadata": {},
   "outputs": [],
   "source": [
    "model = Model(inputs=i, outputs=s)\n",
    "print(model.summary())"
   ]
  },
  {
   "cell_type": "code",
   "execution_count": null,
   "id": "a7a8e81d",
   "metadata": {},
   "outputs": [],
   "source": []
  }
 ],
 "metadata": {
  "kernelspec": {
   "display_name": "Python 3 (ipykernel)",
   "language": "python",
   "name": "python3"
  },
  "language_info": {
   "codemirror_mode": {
    "name": "ipython",
    "version": 3
   },
   "file_extension": ".py",
   "mimetype": "text/x-python",
   "name": "python",
   "nbconvert_exporter": "python",
   "pygments_lexer": "ipython3",
   "version": "3.11.4"
  }
 },
 "nbformat": 4,
 "nbformat_minor": 5
}
