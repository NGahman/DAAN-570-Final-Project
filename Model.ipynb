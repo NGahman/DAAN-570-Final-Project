{
 "cells": [
  {
   "cell_type": "code",
   "execution_count": null,
   "id": "945bf1e8",
   "metadata": {},
   "outputs": [],
   "source": [
    "#Installing necessary dependences:\n",
    "#!pip install -q keras-nlp"
   ]
  },
  {
   "cell_type": "code",
   "execution_count": null,
   "id": "d6c16806",
   "metadata": {},
   "outputs": [],
   "source": [
    "#!pip list"
   ]
  },
  {
   "cell_type": "code",
   "execution_count": null,
   "id": "deb975f6",
   "metadata": {},
   "outputs": [],
   "source": []
  },
  {
   "cell_type": "code",
   "execution_count": null,
   "id": "e3cb425f",
   "metadata": {},
   "outputs": [],
   "source": [
    "#imports:\n",
    "import tensorflow as tf\n",
    "import tensorflow_text as tf_text\n",
    "import keras\n",
    "import pandas as pd\n",
    "import numpy as np\n",
    "import os\n",
    "import re\n",
    "from sklearn.model_selection import train_test_split\n",
    "from keras.layers import Embedding, Dense, MultiHeadAttention, Softmax, TextVectorization, LayerNormalization\n",
    "from keras import Model, Input\n",
    "from keras.models import Sequential\n",
    "from sklearn.feature_extraction.text import CountVectorizer\n",
    "\n",
    "from tensorflow_text.tools.wordpiece_vocab import bert_vocab_from_dataset as bert_vocab"
   ]
  },
  {
   "cell_type": "code",
   "execution_count": null,
   "id": "14473d53",
   "metadata": {},
   "outputs": [],
   "source": [
    "import keras_nlp"
   ]
  },
  {
   "cell_type": "code",
   "execution_count": null,
   "id": "bff6f9f5",
   "metadata": {},
   "outputs": [],
   "source": []
  },
  {
   "cell_type": "code",
   "execution_count": null,
   "id": "e54d52dd",
   "metadata": {},
   "outputs": [],
   "source": [
    "#Preprocessing Data\n",
    "filepath = os.path.dirname(os.path.dirname(os.path.abspath(\".\"))) + \"/Datasets\"\n",
    "filepath = re.sub(r'\\\\', '/', filepath)\n",
    "print(filepath)\n",
    "X1 = pd.read_csv(filepath + \"/Tatobea Project\" + '/'+ \"spa\" +'.txt', sep='\\t', header = None)[[0,1]].rename(columns = {0:\"English\", 1:\"Translated\"})\n",
    "X1 = X1[X1.notnull().all(axis = 1)]"
   ]
  },
  {
   "cell_type": "code",
   "execution_count": null,
   "id": "e7af5c6b",
   "metadata": {},
   "outputs": [],
   "source": [
    "print(X1)"
   ]
  },
  {
   "cell_type": "code",
   "execution_count": null,
   "id": "8188b81e",
   "metadata": {},
   "outputs": [],
   "source": [
    "X1['Translated'] = \"<ES> \" + X1['Translated']"
   ]
  },
  {
   "cell_type": "code",
   "execution_count": null,
   "id": "e47e98e5",
   "metadata": {},
   "outputs": [],
   "source": [
    "print(X1)"
   ]
  },
  {
   "cell_type": "code",
   "execution_count": null,
   "id": "06c447aa",
   "metadata": {},
   "outputs": [],
   "source": [
    "train_x = pd.DataFrame()"
   ]
  },
  {
   "cell_type": "code",
   "execution_count": null,
   "id": "6cc30d94",
   "metadata": {},
   "outputs": [],
   "source": [
    "for d in [x[0] for x in os.walk(filepath + \"/DGT-TM\")]:\n",
    "    print(d)\n",
    "    print(d[-6:])\n",
    "    #Ignores TMX files\n",
    "    if d[-1] == \")\" or d[-6:] == \"DGT-TM\":\n",
    "        continue\n",
    "    #This code actually works, however due to the dataset it takes 1+ hour to run.\n",
    "    #Because of this, at least for now I'll be restricting it to just the EN-ES folder.\n",
    "    te = True\n",
    "    if d[-5:] != \"EN-ES\":\n",
    "        te = False\n",
    "        continue\n",
    "    \n",
    "    fp = re.sub(r'\\\\', '/', d)\n",
    "    E = fp.split(\"/\")[-1].split(\"-\")[0]\n",
    "    print(E)\n",
    "    T = fp.split(\"/\")[-1].split(\"-\")[1]\n",
    "    print(T)\n",
    "    print(d + '/'+ E + \"-\" + T +'.txt')\n",
    "    \n",
    "    temp = pd.read_csv(d + '/'+ E + \"-\" + T +'.txt', sep='\\t', header = None)[[0,1]].rename(columns = {0:\"English\", 1:\"Translated\"})\n",
    "    temp = temp[temp.notnull().all(axis = 1)]\n",
    "    temp['Translated'] = \"<\" + T + \"> \" + temp['Translated']\n",
    "    \n",
    "    print(temp.head())\n",
    "    if te:\n",
    "        X1 = pd.concat([X1, temp])\n",
    "    else:\n",
    "        train_x = pd.concat([train_x, temp])\n"
   ]
  },
  {
   "cell_type": "code",
   "execution_count": null,
   "id": "bb52bf66",
   "metadata": {},
   "outputs": [],
   "source": [
    "Y1 = pd.DataFrame()\n",
    "Y1['Translated'] = X1.pop(\"Translated\")\n"
   ]
  },
  {
   "cell_type": "code",
   "execution_count": null,
   "id": "643752f6",
   "metadata": {},
   "outputs": [],
   "source": [
    "print(Y1)"
   ]
  },
  {
   "cell_type": "code",
   "execution_count": null,
   "id": "3f6f2ece",
   "metadata": {},
   "outputs": [],
   "source": [
    "train_x1, test_x, train_y1, test_y = train_test_split(X1, Y1, test_size=0.5, random_state=42)"
   ]
  },
  {
   "cell_type": "code",
   "execution_count": null,
   "id": "1a995787",
   "metadata": {},
   "outputs": [],
   "source": []
  },
  {
   "cell_type": "code",
   "execution_count": null,
   "id": "592b1324",
   "metadata": {},
   "outputs": [],
   "source": [
    "try:\n",
    "    train_y = train_x.pop(\"Translated\")\n",
    "except:\n",
    "    #train_x doesn't have any portions, so we'll just describe it as a normal Dataframe\n",
    "    train_y = pd.DataFrame()"
   ]
  },
  {
   "cell_type": "code",
   "execution_count": null,
   "id": "616f89e9",
   "metadata": {},
   "outputs": [],
   "source": [
    "train_x = pd.concat([train_x, train_x1])"
   ]
  },
  {
   "cell_type": "code",
   "execution_count": null,
   "id": "a1975bf4",
   "metadata": {},
   "outputs": [],
   "source": [
    "train_y = pd.concat([train_y, train_y1])"
   ]
  },
  {
   "cell_type": "code",
   "execution_count": null,
   "id": "a294f170",
   "metadata": {},
   "outputs": [],
   "source": [
    "del train_x1\n",
    "del train_y1\n",
    "del X1\n",
    "del Y1"
   ]
  },
  {
   "cell_type": "code",
   "execution_count": null,
   "id": "17bf6479",
   "metadata": {},
   "outputs": [],
   "source": [
    "print(train_x)\n",
    "print(train_y)\n",
    "print(test_x)\n",
    "print(test_y)"
   ]
  },
  {
   "cell_type": "code",
   "execution_count": null,
   "id": "c7348904",
   "metadata": {},
   "outputs": [],
   "source": [
    "print(train_x.shape)\n",
    "print(train_y.shape)\n",
    "print(test_x.shape)\n",
    "print(test_y.shape)"
   ]
  },
  {
   "cell_type": "code",
   "execution_count": null,
   "id": "ed458f60",
   "metadata": {},
   "outputs": [],
   "source": [
    "#train_x = train_x.astype(str)\n",
    "#test_x = test_x.astype(str)"
   ]
  },
  {
   "cell_type": "code",
   "execution_count": null,
   "id": "5fa86552",
   "metadata": {},
   "outputs": [],
   "source": [
    "#X = pd.concat([train_x, test_x])\n",
    "#Y = pd.concat([train_y, test_y])\n",
    "#Y_SP = Y[Y['Translated'].str.contains(\"<ES>\")]"
   ]
  },
  {
   "cell_type": "code",
   "execution_count": null,
   "id": "d3f3a42d",
   "metadata": {},
   "outputs": [],
   "source": []
  },
  {
   "cell_type": "code",
   "execution_count": null,
   "id": "f6e82d46",
   "metadata": {},
   "outputs": [],
   "source": [
    "#max_padding_series_org = X['English'].str.split(\" \")\n",
    "#max_padding_len_org = max_padding_series_org.str.len()\n",
    "#print(max_padding_len_org)\n",
    "#max_padding_size_org = max_padding_len_org.max() + 2"
   ]
  },
  {
   "cell_type": "code",
   "execution_count": null,
   "id": "a0b56a09",
   "metadata": {},
   "outputs": [],
   "source": [
    "#The +2 is necessary because of the [START] and [END] tokens\n",
    "#print(max_padding_size_org)"
   ]
  },
  {
   "cell_type": "code",
   "execution_count": null,
   "id": "ef7e1129",
   "metadata": {},
   "outputs": [],
   "source": [
    "#max_padding_series_tar = Y_SP['Translated'].str.split(\" \")\n",
    "#max_padding_len_tar = max_padding_series_tar.str.len()\n",
    "#print(max_padding_len_tar)\n",
    "#max_padding_size_tar = max_padding_len_tar.max() + 2"
   ]
  },
  {
   "cell_type": "code",
   "execution_count": null,
   "id": "d2eab129",
   "metadata": {},
   "outputs": [],
   "source": [
    "#print(max_padding_size_tar)"
   ]
  },
  {
   "cell_type": "code",
   "execution_count": null,
   "id": "71446d49",
   "metadata": {},
   "outputs": [],
   "source": [
    "#Code used to find the length of \n",
    "#vectorizer_org = CountVectorizer()\n",
    "#count_org = vectorizer_org.fit_transform(X['English'])\n",
    "#vectorizer_tar = CountVectorizer()\n",
    "#count_tar = vectorizer_tar.fit_transform(Y_SP['Translated'])\n",
    "#print(count_org, count_tar)"
   ]
  },
  {
   "cell_type": "code",
   "execution_count": null,
   "id": "006f80d6",
   "metadata": {},
   "outputs": [],
   "source": [
    "#print(count_org.shape)"
   ]
  },
  {
   "cell_type": "code",
   "execution_count": null,
   "id": "56f9bf71",
   "metadata": {},
   "outputs": [],
   "source": [
    "#print(len(vectorizer_org.get_feature_names_out()))"
   ]
  },
  {
   "cell_type": "code",
   "execution_count": null,
   "id": "c1ea7e85",
   "metadata": {},
   "outputs": [],
   "source": [
    "#print(len(vectorizer_tar.get_feature_names_out()))"
   ]
  },
  {
   "cell_type": "code",
   "execution_count": null,
   "id": "ccfc787e",
   "metadata": {},
   "outputs": [],
   "source": [
    "#The total number of words in the English corpus seems to be 285636.\n",
    "#The total number of words in the Spanish corpus seems to be 340903.\n",
    "org_length = 285636\n",
    "tar_length = 340903"
   ]
  },
  {
   "cell_type": "code",
   "execution_count": null,
   "id": "353d5c73",
   "metadata": {},
   "outputs": [],
   "source": [
    "#Need to tokenize train_x, test_x, train_y, test_y\n",
    "#This code creates the vocabulary and saves it to a text file.\n",
    "bert_tokenizer_params=dict(lower_case=True)\n",
    "reserved_tokens=[\"[PAD]\", \"[UNK]\", \"[START]\", \"[END]\"]\n",
    "\n",
    "bert_vocab_org_args = dict(\n",
    "    # The target vocabulary size\n",
    "    vocab_size = org_length,\n",
    "    # Reserved tokens that must be included in the vocabulary\n",
    "    reserved_tokens=reserved_tokens,\n",
    "    # Arguments for `text.BertTokenizer`\n",
    "    bert_tokenizer_params=bert_tokenizer_params,\n",
    "    # Arguments for `wordpiece_vocab.wordpiece_tokenizer_learner_lib.learn`\n",
    "    learn_params={},\n",
    ")\n",
    "\n",
    "bert_vocab_tar_args = dict(\n",
    "    # The target vocabulary size\n",
    "    vocab_size = tar_length,\n",
    "    # Reserved tokens that must be included in the vocabulary\n",
    "    reserved_tokens=reserved_tokens,\n",
    "    # Arguments for `text.BertTokenizer`\n",
    "    bert_tokenizer_params=bert_tokenizer_params,\n",
    "    # Arguments for `wordpiece_vocab.wordpiece_tokenizer_learner_lib.learn`\n",
    "    learn_params={},\n",
    ")"
   ]
  },
  {
   "cell_type": "code",
   "execution_count": null,
   "id": "25545140",
   "metadata": {},
   "outputs": [],
   "source": [
    "print(bert_tokenizer_params)\n"
   ]
  },
  {
   "cell_type": "code",
   "execution_count": null,
   "id": "40f912d7",
   "metadata": {},
   "outputs": [],
   "source": [
    "#X_tensor = tf.convert_to_tensor(X['English'])"
   ]
  },
  {
   "cell_type": "code",
   "execution_count": null,
   "id": "4ef8df07",
   "metadata": {},
   "outputs": [],
   "source": [
    "#print(X_tensor.shape)"
   ]
  },
  {
   "cell_type": "code",
   "execution_count": null,
   "id": "69eab38d",
   "metadata": {},
   "outputs": [],
   "source": [
    "#X_dataset = tf.data.Dataset.from_tensor_slices(X_tensor)"
   ]
  },
  {
   "cell_type": "code",
   "execution_count": null,
   "id": "5644c24f",
   "metadata": {},
   "outputs": [],
   "source": [
    "#en_vocab = bert_vocab.bert_vocab_from_dataset(\n",
    "#    X_dataset.batch(1000).prefetch(2),\n",
    "#    **bert_vocab_org_args\n",
    "#)"
   ]
  },
  {
   "cell_type": "code",
   "execution_count": null,
   "id": "2d80ca98",
   "metadata": {},
   "outputs": [],
   "source": [
    "#with open(\"engvocab.txt\", 'w', encoding=\"utf-8\") as f:\n",
    "#    for token in en_vocab:\n",
    "#      print(token, file=f)"
   ]
  },
  {
   "cell_type": "code",
   "execution_count": null,
   "id": "eed720c2",
   "metadata": {},
   "outputs": [],
   "source": [
    "Y_SP_tensor = tf.convert_to_tensor(Y_SP['Translated'])"
   ]
  },
  {
   "cell_type": "code",
   "execution_count": null,
   "id": "a3eafa4f",
   "metadata": {},
   "outputs": [],
   "source": [
    "#Y_SP_dataset = tf.data.Dataset.from_tensor_slices(Y_SP_tensor)"
   ]
  },
  {
   "cell_type": "code",
   "execution_count": null,
   "id": "657b1d8d",
   "metadata": {},
   "outputs": [],
   "source": [
    "#es_vocab = bert_vocab.bert_vocab_from_dataset(\n",
    "#    Y_SP_dataset.batch(1000).prefetch(2),\n",
    "#    **bert_vocab_tar_args\n",
    "#)"
   ]
  },
  {
   "cell_type": "code",
   "execution_count": null,
   "id": "070ef983",
   "metadata": {},
   "outputs": [],
   "source": [
    "#with open(\"esvocab.txt\", 'w', encoding=\"utf-8\") as f:\n",
    "#    for token in es_vocab:\n",
    "#      print(token, file=f)"
   ]
  },
  {
   "cell_type": "code",
   "execution_count": null,
   "id": "d33202ac",
   "metadata": {},
   "outputs": [],
   "source": [
    "es_tokenizer = tf_text.BertTokenizer('esvocab.txt', **bert_tokenizer_params)\n",
    "en_tokenizer = tf_text.BertTokenizer('engvocab.txt', **bert_tokenizer_params)"
   ]
  },
  {
   "cell_type": "code",
   "execution_count": null,
   "id": "2923e2ca",
   "metadata": {},
   "outputs": [],
   "source": [
    "x_train_tensor = en_tokenizer.tokenize(train_x['English'])\n",
    "x_train_tensor = x_train_tensor.merge_dims(-2,-1)\n",
    "x_train_tensor = x_train_tensor.to_tensor(default_value=0)\n",
    "\n"
   ]
  },
  {
   "cell_type": "code",
   "execution_count": null,
   "id": "46d888f7",
   "metadata": {},
   "outputs": [],
   "source": [
    "x_test_tensor = en_tokenizer.tokenize(test_x['English'])\n",
    "x_test_tensor = x_test_tensor.merge_dims(-2,-1)\n",
    "x_test_tensor = x_test_tensor.to_tensor(default_value=0)"
   ]
  },
  {
   "cell_type": "code",
   "execution_count": null,
   "id": "99ae8b72",
   "metadata": {},
   "outputs": [],
   "source": [
    "y_train_tensor = es_tokenizer.tokenize(train_y['Translated'])\n",
    "y_train_tensor = y_train_tensor.merge_dims(-2,-1)\n",
    "\n",
    "\n"
   ]
  },
  {
   "cell_type": "code",
   "execution_count": null,
   "id": "18d6d9c0",
   "metadata": {},
   "outputs": [],
   "source": [
    "#0 is the ID for the [PAD] token\n",
    "y_train_tensor = y_train_tensor.to_tensor(default_value=0)"
   ]
  },
  {
   "cell_type": "code",
   "execution_count": null,
   "id": "b5c9619b",
   "metadata": {},
   "outputs": [],
   "source": [
    "y_test_tensor = es_tokenizer.tokenize(test_y['Translated'])\n",
    "y_test_tensor = y_test_tensor.merge_dims(-2,-1)\n"
   ]
  },
  {
   "cell_type": "code",
   "execution_count": null,
   "id": "8bffd607",
   "metadata": {},
   "outputs": [],
   "source": [
    "y_test_tensor = y_test_tensor.to_tensor(default_value=0)"
   ]
  },
  {
   "cell_type": "code",
   "execution_count": null,
   "id": "a234a9fa",
   "metadata": {},
   "outputs": [],
   "source": [
    "print(x_train_tensor.shape)\n",
    "print(x_test_tensor.shape)\n",
    "print(y_train_tensor.shape)\n"
   ]
  },
  {
   "cell_type": "code",
   "execution_count": null,
   "id": "7b420348",
   "metadata": {},
   "outputs": [],
   "source": [
    "print(y_test_tensor.shape)"
   ]
  },
  {
   "cell_type": "code",
   "execution_count": null,
   "id": "bb3c790f",
   "metadata": {},
   "outputs": [],
   "source": [
    "import gc\n",
    "gc.collect()"
   ]
  },
  {
   "cell_type": "code",
   "execution_count": null,
   "id": "c2cebd2d",
   "metadata": {},
   "outputs": [],
   "source": [
    "#(2917819, 611)\n",
    "#(2917820, 777)\n",
    "#(2917819, 622)\n",
    "#(2917820, 794)"
   ]
  },
  {
   "cell_type": "code",
   "execution_count": null,
   "id": "f3e5c58d",
   "metadata": {},
   "outputs": [],
   "source": [
    "org_length = 777\n",
    "tar_length = 794"
   ]
  },
  {
   "cell_type": "code",
   "execution_count": null,
   "id": "5b28de47",
   "metadata": {},
   "outputs": [],
   "source": [
    "STOP"
   ]
  },
  {
   "cell_type": "code",
   "execution_count": null,
   "id": "bcfd3aab",
   "metadata": {},
   "outputs": [],
   "source": [
    "#Actual Model:\n",
    "#For now, let's start by creating an exact copy of the attention is all you need model.\n",
    "#We can always make changes later if we want to.\n",
    "i = Input(shape=(1,))"
   ]
  },
  {
   "cell_type": "code",
   "execution_count": null,
   "id": "c112280d",
   "metadata": {},
   "outputs": [],
   "source": [
    "#r = open(\"textvectorvocap.txt\", \"r\", encoding=\"utf-8\")\n",
    "#m = r.readline().split(\"*\")"
   ]
  },
  {
   "cell_type": "code",
   "execution_count": null,
   "id": "702e264d",
   "metadata": {},
   "outputs": [],
   "source": [
    "#TLayer = TextVectorization(output_sequence_length = max_padding_size, vocabulary = m, output_mode = \"int\")\n",
    "#inp = TextVectorization(output_sequence_length = max_padding_size)"
   ]
  },
  {
   "cell_type": "code",
   "execution_count": null,
   "id": "c8d52056",
   "metadata": {},
   "outputs": [],
   "source": [
    "#inp = TLayer(i)"
   ]
  },
  {
   "cell_type": "code",
   "execution_count": null,
   "id": "0c040a20",
   "metadata": {},
   "outputs": [],
   "source": [
    "#print(inp)"
   ]
  },
  {
   "cell_type": "code",
   "execution_count": null,
   "id": "bba2fbbe",
   "metadata": {},
   "outputs": [],
   "source": [
    "#inp.adapt(train_x)"
   ]
  },
  {
   "cell_type": "code",
   "execution_count": null,
   "id": "4ee294dc",
   "metadata": {},
   "outputs": [],
   "source": [
    "#dir(inp)"
   ]
  },
  {
   "cell_type": "code",
   "execution_count": null,
   "id": "495d0ee4",
   "metadata": {},
   "outputs": [],
   "source": [
    "#print(inp.get_vocabulary())"
   ]
  },
  {
   "cell_type": "code",
   "execution_count": null,
   "id": "4b917cd6",
   "metadata": {},
   "outputs": [],
   "source": []
  },
  {
   "cell_type": "code",
   "execution_count": null,
   "id": "b6cb6d02",
   "metadata": {},
   "outputs": [],
   "source": [
    "#f = open(\"textvectorvocap.txt\", \"w\", encoding=\"utf-8\")\n",
    "#f.write(\"*\".join(inp.get_vocabulary()))\n",
    "#f.close()"
   ]
  },
  {
   "cell_type": "code",
   "execution_count": null,
   "id": "0ff44ee7",
   "metadata": {},
   "outputs": [],
   "source": [
    "#r = open(\"textvectorvocap.txt\", \"r\", encoding=\"utf-8\")\n",
    "#m = r.readline().split(\"*\")"
   ]
  },
  {
   "cell_type": "code",
   "execution_count": null,
   "id": "1eb542f8",
   "metadata": {},
   "outputs": [],
   "source": [
    "#print(m == inp.get_vocabulary())"
   ]
  },
  {
   "cell_type": "code",
   "execution_count": null,
   "id": "d2e06a65",
   "metadata": {},
   "outputs": [],
   "source": []
  },
  {
   "cell_type": "code",
   "execution_count": null,
   "id": "b1ae4118",
   "metadata": {},
   "outputs": [],
   "source": [
    "#print(inp.vocabulary_size())"
   ]
  },
  {
   "cell_type": "code",
   "execution_count": null,
   "id": "d0637f83",
   "metadata": {},
   "outputs": [],
   "source": [
    "#train_x_vec = inp.predict(train_x)\n",
    "#test_x_vec = inp.predict(test_x)"
   ]
  },
  {
   "cell_type": "code",
   "execution_count": null,
   "id": "d4bb6946",
   "metadata": {},
   "outputs": [],
   "source": [
    "#print(i.__call__())"
   ]
  },
  {
   "cell_type": "code",
   "execution_count": null,
   "id": "f496769c",
   "metadata": {},
   "outputs": [],
   "source": [
    "em = Embedding(input_dim = TLayer.vocabulary_size(), output_dim = 512)(inp)"
   ]
  },
  {
   "cell_type": "code",
   "execution_count": null,
   "id": "f5361145",
   "metadata": {},
   "outputs": [],
   "source": [
    "posen = keras_nlp.layers.SinePositionEncoding()(em)"
   ]
  },
  {
   "cell_type": "code",
   "execution_count": null,
   "id": "075dcc8b",
   "metadata": {},
   "outputs": [],
   "source": [
    "mh1 = MultiHeadAttention(num_heads=3, key_dim=512, value_dim=512)"
   ]
  },
  {
   "cell_type": "code",
   "execution_count": null,
   "id": "8fa7c3e6",
   "metadata": {},
   "outputs": [],
   "source": [
    "mho1 = mh1(posen, posen, posen)"
   ]
  },
  {
   "cell_type": "code",
   "execution_count": null,
   "id": "56d2d68b",
   "metadata": {},
   "outputs": [],
   "source": [
    "no1 = LayerNormalization()\n",
    "ou1 = no1(mho1+posen)"
   ]
  },
  {
   "cell_type": "code",
   "execution_count": null,
   "id": "0529ff1f",
   "metadata": {},
   "outputs": [],
   "source": [
    "fe1 = Dense(512)(ou1)\n",
    "ou2 = no1(ou1+fe1)"
   ]
  },
  {
   "cell_type": "code",
   "execution_count": null,
   "id": "5576431a",
   "metadata": {},
   "outputs": [],
   "source": []
  },
  {
   "cell_type": "code",
   "execution_count": null,
   "id": "d726b7f6",
   "metadata": {},
   "outputs": [],
   "source": []
  },
  {
   "cell_type": "code",
   "execution_count": null,
   "id": "0f04d95d",
   "metadata": {},
   "outputs": [],
   "source": []
  },
  {
   "cell_type": "code",
   "execution_count": null,
   "id": "7d029e71",
   "metadata": {},
   "outputs": [],
   "source": []
  },
  {
   "cell_type": "code",
   "execution_count": null,
   "id": "a818784a",
   "metadata": {},
   "outputs": [],
   "source": [
    "\n",
    "lin = Dense(512)(ou2)"
   ]
  },
  {
   "cell_type": "code",
   "execution_count": null,
   "id": "7cb22ad6",
   "metadata": {},
   "outputs": [],
   "source": [
    "s = Softmax()(lin)"
   ]
  },
  {
   "cell_type": "code",
   "execution_count": null,
   "id": "b4d068da",
   "metadata": {},
   "outputs": [],
   "source": []
  },
  {
   "cell_type": "code",
   "execution_count": null,
   "id": "67cd94f1",
   "metadata": {},
   "outputs": [],
   "source": []
  },
  {
   "cell_type": "code",
   "execution_count": null,
   "id": "ab891efd",
   "metadata": {},
   "outputs": [],
   "source": []
  },
  {
   "cell_type": "code",
   "execution_count": null,
   "id": "7a78f02f",
   "metadata": {},
   "outputs": [],
   "source": []
  },
  {
   "cell_type": "code",
   "execution_count": null,
   "id": "778de327",
   "metadata": {},
   "outputs": [],
   "source": []
  },
  {
   "cell_type": "code",
   "execution_count": null,
   "id": "b6fbbe7a",
   "metadata": {},
   "outputs": [],
   "source": []
  },
  {
   "cell_type": "code",
   "execution_count": null,
   "id": "09597290",
   "metadata": {},
   "outputs": [],
   "source": [
    "model = Model(inputs=i, outputs=s)\n",
    "print(model.summary())"
   ]
  },
  {
   "cell_type": "code",
   "execution_count": null,
   "id": "a7a8e81d",
   "metadata": {},
   "outputs": [],
   "source": [
    "#Need to figure out metrics for language translation"
   ]
  }
 ],
 "metadata": {
  "kernelspec": {
   "display_name": "Python 3 (ipykernel)",
   "language": "python",
   "name": "python3"
  },
  "language_info": {
   "codemirror_mode": {
    "name": "ipython",
    "version": 3
   },
   "file_extension": ".py",
   "mimetype": "text/x-python",
   "name": "python",
   "nbconvert_exporter": "python",
   "pygments_lexer": "ipython3",
   "version": "3.9.18"
  }
 },
 "nbformat": 4,
 "nbformat_minor": 5
}
